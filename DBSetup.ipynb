{
 "cells": [
  {
   "cell_type": "code",
   "execution_count": null,
   "id": "35ed3cef-345f-495e-9fe5-513236bf8bcc",
   "metadata": {},
   "outputs": [],
   "source": [
    "##For MySQL\n",
    "import mysql.connector"
   ]
  },
  {
   "cell_type": "code",
   "execution_count": null,
   "id": "1eb4fb85-792d-4368-86e6-a799df97d672",
   "metadata": {},
   "outputs": [],
   "source": [
    "##This is the same as the docker compose stuff i think, it'll be good for spinning up the db really quickly and working on it through git hub(see below)\n",
    "cwDB = mysql.connector.connect( \n",
    "    host=\"localhost\",\n",
    "  user=\"deuser\",\n",
    "  password=\"depassword\",\n",
    "  database=\"crash_weather\"\n",
    ")"
   ]
  },
  {
   "cell_type": "code",
   "execution_count": null,
   "id": "d0e72e51-dbe8-44e7-8f36-d08b66a4a0ed",
   "metadata": {},
   "outputs": [],
   "source": [
    "##This is the variable you use to execute code on the database(mycursor)\n",
    "mycursor = cwDB.cursor()"
   ]
  },
  {
   "cell_type": "code",
   "execution_count": null,
   "id": "a4e6c3eb-d04b-4d8f-9513-5a0cab89a827",
   "metadata": {},
   "outputs": [],
   "source": [
    "##Heres an example of this creating a table, change this to whatever we need\n",
    "mycursor.execute(\"CREATE TABLE customers (name VARCHAR(255), address VARCHAR(255))\")"
   ]
  },
  {
   "cell_type": "code",
   "execution_count": null,
   "id": "67eb357e-3770-4d9d-8bf5-fb94c2b283a7",
   "metadata": {},
   "outputs": [],
   "source": [
    "##Shows all tables\n",
    "mycursor.execute(\"SHOW TABLES\")\n",
    "for x in mycursor:\n",
    "  print(x)"
   ]
  }
 ],
 "metadata": {
  "kernelspec": {
   "display_name": "Python 3 (ipykernel)",
   "language": "python",
   "name": "python3"
  },
  "language_info": {
   "codemirror_mode": {
    "name": "ipython",
    "version": 3
   },
   "file_extension": ".py",
   "mimetype": "text/x-python",
   "name": "python",
   "nbconvert_exporter": "python",
   "pygments_lexer": "ipython3",
   "version": "3.9.7"
  }
 },
 "nbformat": 4,
 "nbformat_minor": 5
}
