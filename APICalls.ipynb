{
 "cells": [
  {
   "cell_type": "code",
   "execution_count": 184,
   "id": "f1d0d885-35e2-406c-83fc-5fa96d4724d5",
   "metadata": {
    "tags": []
   },
   "outputs": [],
   "source": [
    "##For API calls\n",
    "import requests\n",
    "##Looking at tables/data/analytics \n",
    "import pandas as pd\n",
    "##unix timestamp converter\n",
    "from datetime import datetime\n",
    "import mysql.connector\n",
    "import sqlite3\n",
    "import os"
   ]
  },
  {
   "cell_type": "code",
   "execution_count": 187,
   "id": "67382b85-e020-4de1-9b2b-cbb73f1c444e",
   "metadata": {},
   "outputs": [
    {
     "ename": "DatabaseError",
     "evalue": "2003 (HY000): Can't connect to MySQL server on '192.168.1.198:3306' (10060)",
     "output_type": "error",
     "traceback": [
      "\u001b[1;31m---------------------------------------------------------------------------\u001b[0m",
      "\u001b[1;31mMySQLInterfaceError\u001b[0m                       Traceback (most recent call last)",
      "\u001b[1;32m~\\anaconda3\\lib\\site-packages\\mysql\\connector\\connection_cext.py\u001b[0m in \u001b[0;36m_open_connection\u001b[1;34m(self)\u001b[0m\n\u001b[0;32m    235\u001b[0m         \u001b[1;32mtry\u001b[0m\u001b[1;33m:\u001b[0m\u001b[1;33m\u001b[0m\u001b[1;33m\u001b[0m\u001b[0m\n\u001b[1;32m--> 236\u001b[1;33m             \u001b[0mself\u001b[0m\u001b[1;33m.\u001b[0m\u001b[0m_cmysql\u001b[0m\u001b[1;33m.\u001b[0m\u001b[0mconnect\u001b[0m\u001b[1;33m(\u001b[0m\u001b[1;33m**\u001b[0m\u001b[0mcnx_kwargs\u001b[0m\u001b[1;33m)\u001b[0m\u001b[1;33m\u001b[0m\u001b[1;33m\u001b[0m\u001b[0m\n\u001b[0m\u001b[0;32m    237\u001b[0m             \u001b[0mself\u001b[0m\u001b[1;33m.\u001b[0m\u001b[0m_cmysql\u001b[0m\u001b[1;33m.\u001b[0m\u001b[0mconverter_str_fallback\u001b[0m \u001b[1;33m=\u001b[0m \u001b[0mself\u001b[0m\u001b[1;33m.\u001b[0m\u001b[0m_converter_str_fallback\u001b[0m\u001b[1;33m\u001b[0m\u001b[1;33m\u001b[0m\u001b[0m\n",
      "\u001b[1;31mMySQLInterfaceError\u001b[0m: Can't connect to MySQL server on '192.168.1.198:3306' (10060)",
      "\nDuring handling of the above exception, another exception occurred:\n",
      "\u001b[1;31mDatabaseError\u001b[0m                             Traceback (most recent call last)",
      "\u001b[1;32m~\\AppData\\Local\\Temp/ipykernel_16832/3996325590.py\u001b[0m in \u001b[0;36m<module>\u001b[1;34m\u001b[0m\n\u001b[1;32m----> 1\u001b[1;33m cwDB = mysql.connector.connect( \n\u001b[0m\u001b[0;32m      2\u001b[0m     \u001b[0mhost\u001b[0m\u001b[1;33m=\u001b[0m\u001b[1;34m\"192.168.1.198\"\u001b[0m\u001b[1;33m,\u001b[0m\u001b[1;33m\u001b[0m\u001b[1;33m\u001b[0m\u001b[0m\n\u001b[0;32m      3\u001b[0m   \u001b[0muser\u001b[0m\u001b[1;33m=\u001b[0m\u001b[1;34m\"deuser\"\u001b[0m\u001b[1;33m,\u001b[0m\u001b[1;33m\u001b[0m\u001b[1;33m\u001b[0m\u001b[0m\n\u001b[0;32m      4\u001b[0m   \u001b[0mpassword\u001b[0m\u001b[1;33m=\u001b[0m\u001b[1;34m\"secret\"\u001b[0m\u001b[1;33m,\u001b[0m\u001b[1;33m\u001b[0m\u001b[1;33m\u001b[0m\u001b[0m\n\u001b[0;32m      5\u001b[0m   \u001b[0mdatabase\u001b[0m\u001b[1;33m=\u001b[0m\u001b[1;34m\"crash_weather_db\"\u001b[0m\u001b[1;33m\u001b[0m\u001b[1;33m\u001b[0m\u001b[0m\n",
      "\u001b[1;32m~\\anaconda3\\lib\\site-packages\\mysql\\connector\\__init__.py\u001b[0m in \u001b[0;36mconnect\u001b[1;34m(*args, **kwargs)\u001b[0m\n\u001b[0;32m    270\u001b[0m \u001b[1;33m\u001b[0m\u001b[0m\n\u001b[0;32m    271\u001b[0m     \u001b[1;32mif\u001b[0m \u001b[0mHAVE_CEXT\u001b[0m \u001b[1;32mand\u001b[0m \u001b[1;32mnot\u001b[0m \u001b[0muse_pure\u001b[0m\u001b[1;33m:\u001b[0m\u001b[1;33m\u001b[0m\u001b[1;33m\u001b[0m\u001b[0m\n\u001b[1;32m--> 272\u001b[1;33m         \u001b[1;32mreturn\u001b[0m \u001b[0mCMySQLConnection\u001b[0m\u001b[1;33m(\u001b[0m\u001b[1;33m*\u001b[0m\u001b[0margs\u001b[0m\u001b[1;33m,\u001b[0m \u001b[1;33m**\u001b[0m\u001b[0mkwargs\u001b[0m\u001b[1;33m)\u001b[0m\u001b[1;33m\u001b[0m\u001b[1;33m\u001b[0m\u001b[0m\n\u001b[0m\u001b[0;32m    273\u001b[0m     \u001b[1;32mreturn\u001b[0m \u001b[0mMySQLConnection\u001b[0m\u001b[1;33m(\u001b[0m\u001b[1;33m*\u001b[0m\u001b[0margs\u001b[0m\u001b[1;33m,\u001b[0m \u001b[1;33m**\u001b[0m\u001b[0mkwargs\u001b[0m\u001b[1;33m)\u001b[0m\u001b[1;33m\u001b[0m\u001b[1;33m\u001b[0m\u001b[0m\n\u001b[0;32m    274\u001b[0m \u001b[0mConnect\u001b[0m \u001b[1;33m=\u001b[0m \u001b[0mconnect\u001b[0m  \u001b[1;31m# pylint: disable=C0103\u001b[0m\u001b[1;33m\u001b[0m\u001b[1;33m\u001b[0m\u001b[0m\n",
      "\u001b[1;32m~\\anaconda3\\lib\\site-packages\\mysql\\connector\\connection_cext.py\u001b[0m in \u001b[0;36m__init__\u001b[1;34m(self, **kwargs)\u001b[0m\n\u001b[0;32m     83\u001b[0m \u001b[1;33m\u001b[0m\u001b[0m\n\u001b[0;32m     84\u001b[0m         \u001b[1;32mif\u001b[0m \u001b[0mkwargs\u001b[0m\u001b[1;33m:\u001b[0m\u001b[1;33m\u001b[0m\u001b[1;33m\u001b[0m\u001b[0m\n\u001b[1;32m---> 85\u001b[1;33m             \u001b[0mself\u001b[0m\u001b[1;33m.\u001b[0m\u001b[0mconnect\u001b[0m\u001b[1;33m(\u001b[0m\u001b[1;33m**\u001b[0m\u001b[0mkwargs\u001b[0m\u001b[1;33m)\u001b[0m\u001b[1;33m\u001b[0m\u001b[1;33m\u001b[0m\u001b[0m\n\u001b[0m\u001b[0;32m     86\u001b[0m \u001b[1;33m\u001b[0m\u001b[0m\n\u001b[0;32m     87\u001b[0m     \u001b[1;32mdef\u001b[0m \u001b[0m_add_default_conn_attrs\u001b[0m\u001b[1;33m(\u001b[0m\u001b[0mself\u001b[0m\u001b[1;33m)\u001b[0m\u001b[1;33m:\u001b[0m\u001b[1;33m\u001b[0m\u001b[1;33m\u001b[0m\u001b[0m\n",
      "\u001b[1;32m~\\anaconda3\\lib\\site-packages\\mysql\\connector\\abstracts.py\u001b[0m in \u001b[0;36mconnect\u001b[1;34m(self, **kwargs)\u001b[0m\n\u001b[0;32m   1026\u001b[0m \u001b[1;33m\u001b[0m\u001b[0m\n\u001b[0;32m   1027\u001b[0m         \u001b[0mself\u001b[0m\u001b[1;33m.\u001b[0m\u001b[0mdisconnect\u001b[0m\u001b[1;33m(\u001b[0m\u001b[1;33m)\u001b[0m\u001b[1;33m\u001b[0m\u001b[1;33m\u001b[0m\u001b[0m\n\u001b[1;32m-> 1028\u001b[1;33m         \u001b[0mself\u001b[0m\u001b[1;33m.\u001b[0m\u001b[0m_open_connection\u001b[0m\u001b[1;33m(\u001b[0m\u001b[1;33m)\u001b[0m\u001b[1;33m\u001b[0m\u001b[1;33m\u001b[0m\u001b[0m\n\u001b[0m\u001b[0;32m   1029\u001b[0m         \u001b[1;31m# Server does not allow to run any other statement different from ALTER\u001b[0m\u001b[1;33m\u001b[0m\u001b[1;33m\u001b[0m\u001b[0m\n\u001b[0;32m   1030\u001b[0m         \u001b[1;31m# when user's password has been expired.\u001b[0m\u001b[1;33m\u001b[0m\u001b[1;33m\u001b[0m\u001b[0m\n",
      "\u001b[1;32m~\\anaconda3\\lib\\site-packages\\mysql\\connector\\connection_cext.py\u001b[0m in \u001b[0;36m_open_connection\u001b[1;34m(self)\u001b[0m\n\u001b[0;32m    239\u001b[0m                 \u001b[0mself\u001b[0m\u001b[1;33m.\u001b[0m\u001b[0mconverter\u001b[0m\u001b[1;33m.\u001b[0m\u001b[0mstr_fallback\u001b[0m \u001b[1;33m=\u001b[0m \u001b[0mself\u001b[0m\u001b[1;33m.\u001b[0m\u001b[0m_converter_str_fallback\u001b[0m\u001b[1;33m\u001b[0m\u001b[1;33m\u001b[0m\u001b[0m\n\u001b[0;32m    240\u001b[0m         \u001b[1;32mexcept\u001b[0m \u001b[0mMySQLInterfaceError\u001b[0m \u001b[1;32mas\u001b[0m \u001b[0mexc\u001b[0m\u001b[1;33m:\u001b[0m\u001b[1;33m\u001b[0m\u001b[1;33m\u001b[0m\u001b[0m\n\u001b[1;32m--> 241\u001b[1;33m             raise errors.get_mysql_exception(msg=exc.msg, errno=exc.errno,\n\u001b[0m\u001b[0;32m    242\u001b[0m                                              sqlstate=exc.sqlstate)\n\u001b[0;32m    243\u001b[0m \u001b[1;33m\u001b[0m\u001b[0m\n",
      "\u001b[1;31mDatabaseError\u001b[0m: 2003 (HY000): Can't connect to MySQL server on '192.168.1.198:3306' (10060)"
     ]
    }
   ],
   "source": [
    "cwDB = mysql.connector.connect( \n",
    "    host=\"192.168.1.198\",\n",
    "  user=\"deuser\",\n",
    "  password=\"depassword\",\n",
    "  database=\"crash_weather_odb\"\n",
    ")"
   ]
  },
  {
   "cell_type": "code",
   "execution_count": null,
   "id": "710551bd-307b-49fb-bc00-f846e151aa84",
   "metadata": {},
   "outputs": [],
   "source": [
    "mycursor = cwDB.cursor()"
   ]
  },
  {
   "cell_type": "code",
   "execution_count": 154,
   "id": "3d8ffeaa-3aa9-4a93-b92b-e151670ae593",
   "metadata": {},
   "outputs": [],
   "source": [
    "response = requests.get('https://api.openweathermap.org/data/2.5/weather?q=Pittsburgh,us&APPID=7899531bc8fd2729ed670798e7e85adb')"
   ]
  },
  {
   "cell_type": "code",
   "execution_count": 155,
   "id": "6de532e3-38aa-4b84-b65e-5e89a3413793",
   "metadata": {},
   "outputs": [],
   "source": [
    "update = response.json()"
   ]
  },
  {
   "cell_type": "code",
   "execution_count": 156,
   "id": "ceefad89-ef08-464a-857f-bc87c5aa24f9",
   "metadata": {},
   "outputs": [
    {
     "data": {
      "text/plain": [
       "dict"
      ]
     },
     "execution_count": 156,
     "metadata": {},
     "output_type": "execute_result"
    }
   ],
   "source": [
    "type(update)"
   ]
  },
  {
   "cell_type": "code",
   "execution_count": null,
   "id": "705b5d2d-62ad-42ac-98b2-fbadf7aed286",
   "metadata": {},
   "outputs": [],
   "source": []
  },
  {
   "cell_type": "code",
   "execution_count": 157,
   "id": "e0790d66-0894-45f7-a590-4411d7c2e314",
   "metadata": {},
   "outputs": [
    {
     "data": {
      "text/plain": [
       "{'coord': {'lon': -79.9959, 'lat': 40.4406},\n",
       " 'weather': [{'id': 501,\n",
       "   'main': 'Rain',\n",
       "   'description': 'moderate rain',\n",
       "   'icon': '10d'}],\n",
       " 'base': 'stations',\n",
       " 'main': {'temp': 286.35,\n",
       "  'feels_like': 286.08,\n",
       "  'temp_min': 285.4,\n",
       "  'temp_max': 288.77,\n",
       "  'pressure': 1015,\n",
       "  'humidity': 90},\n",
       " 'visibility': 10000,\n",
       " 'wind': {'speed': 4.63, 'deg': 210},\n",
       " 'rain': {'1h': 3.07},\n",
       " 'clouds': {'all': 100},\n",
       " 'dt': 1649711637,\n",
       " 'sys': {'type': 2,\n",
       "  'id': 2008550,\n",
       "  'country': 'US',\n",
       "  'sunrise': 1649674049,\n",
       "  'sunset': 1649721245},\n",
       " 'timezone': -14400,\n",
       " 'id': 5206379,\n",
       " 'name': 'Pittsburgh',\n",
       " 'cod': 200}"
      ]
     },
     "execution_count": 157,
     "metadata": {},
     "output_type": "execute_result"
    }
   ],
   "source": [
    "update"
   ]
  },
  {
   "cell_type": "code",
   "execution_count": 158,
   "id": "bf56b795-4fc8-45d9-a7d6-aaebb1829c55",
   "metadata": {},
   "outputs": [],
   "source": [
    "weather = update['weather'][0]['main']"
   ]
  },
  {
   "cell_type": "code",
   "execution_count": 226,
   "id": "8d486499-84cd-46ec-8811-8ce7725a1524",
   "metadata": {},
   "outputs": [],
   "source": [
    "temp = update['main']['temp']"
   ]
  },
  {
   "cell_type": "code",
   "execution_count": 232,
   "id": "fd55ef75-edd0-45ac-9f4f-2f3d71f6a292",
   "metadata": {},
   "outputs": [],
   "source": [
    "temperature=int(((temp- 273.15)*9/5)+32)"
   ]
  },
  {
   "cell_type": "code",
   "execution_count": 235,
   "id": "7559ec67-8d51-4674-8ea9-cfb2f69274e1",
   "metadata": {},
   "outputs": [],
   "source": [
    "wid = update['weather'][0]['id']"
   ]
  },
  {
   "cell_type": "code",
   "execution_count": 160,
   "id": "b3e19d47-be30-41f8-af98-551d7f8931b0",
   "metadata": {},
   "outputs": [],
   "source": [
    "visibility = update['visibility']"
   ]
  },
  {
   "cell_type": "code",
   "execution_count": 161,
   "id": "26651929-e1a5-4f75-b5d8-fc83100d53cd",
   "metadata": {},
   "outputs": [],
   "source": [
    "dt = update['dt']\n",
    "date_time = datetime.utcfromtimestamp(dt).strftime('%m-%d-%Y %H:%M:%S')"
   ]
  },
  {
   "cell_type": "code",
   "execution_count": 249,
   "id": "12498ee7-0635-4660-87ad-530ec25fbf85",
   "metadata": {},
   "outputs": [
    {
     "ename": "AttributeError",
     "evalue": "'str' object has no attribute 'dtypes'",
     "output_type": "error",
     "traceback": [
      "\u001b[1;31m---------------------------------------------------------------------------\u001b[0m",
      "\u001b[1;31mAttributeError\u001b[0m                            Traceback (most recent call last)",
      "\u001b[1;32m~\\AppData\\Local\\Temp/ipykernel_16832/1463091568.py\u001b[0m in \u001b[0;36m<module>\u001b[1;34m\u001b[0m\n\u001b[1;32m----> 1\u001b[1;33m \u001b[0mdate_time\u001b[0m\u001b[1;33m.\u001b[0m\u001b[0mdtypes\u001b[0m\u001b[1;33m\u001b[0m\u001b[1;33m\u001b[0m\u001b[0m\n\u001b[0m",
      "\u001b[1;31mAttributeError\u001b[0m: 'str' object has no attribute 'dtypes'"
     ]
    }
   ],
   "source": []
  },
  {
   "cell_type": "code",
   "execution_count": 162,
   "id": "e3d2c5ae-8004-47f1-95d3-ad9aee9b93cb",
   "metadata": {},
   "outputs": [],
   "source": [
    "month = datetime.utcfromtimestamp(dt).strftime('%m')"
   ]
  },
  {
   "cell_type": "code",
   "execution_count": 163,
   "id": "9965bba4-6ee3-412d-9cfb-a30fb43c7998",
   "metadata": {},
   "outputs": [],
   "source": [
    "year = datetime.utcfromtimestamp(dt).strftime('%Y')"
   ]
  },
  {
   "cell_type": "code",
   "execution_count": 164,
   "id": "73c52e49-8343-4f64-91ab-abcf26e25e92",
   "metadata": {},
   "outputs": [],
   "source": [
    "day = datetime.utcfromtimestamp(dt).strftime('%d')"
   ]
  },
  {
   "cell_type": "code",
   "execution_count": 165,
   "id": "86e2d49e-0067-43e5-a8bf-7837d76a3d4d",
   "metadata": {},
   "outputs": [],
   "source": [
    "hour = datetime.utcfromtimestamp(dt).strftime('%H')"
   ]
  },
  {
   "cell_type": "code",
   "execution_count": 166,
   "id": "18283dd0-2436-4614-a656-61a42763a4a2",
   "metadata": {},
   "outputs": [],
   "source": [
    "wind_speed = update['wind']['speed']"
   ]
  },
  {
   "cell_type": "code",
   "execution_count": 167,
   "id": "7d73e33f-22d9-49f5-8e1a-31e2523e97f7",
   "metadata": {},
   "outputs": [],
   "source": [
    "description = update['weather'][0]['description']"
   ]
  },
  {
   "cell_type": "code",
   "execution_count": 237,
   "id": "9c90fa5c-32d7-4c9e-b081-253ce2358451",
   "metadata": {},
   "outputs": [],
   "source": [
    "cols = ['weather_id','weather', 'temperature', 'visibility','wind_speed','description','month','day','year','hour','date_time']"
   ]
  },
  {
   "cell_type": "code",
   "execution_count": 238,
   "id": "be599aa9-0c46-4354-9c08-dc7227bc1d9a",
   "metadata": {},
   "outputs": [],
   "source": [
    "df = pd.DataFrame(columns=cols)"
   ]
  },
  {
   "cell_type": "code",
   "execution_count": 239,
   "id": "628e7ae3-9e2a-4af5-be32-89b1e10919e4",
   "metadata": {},
   "outputs": [],
   "source": [
    "call = {'weather_id':wid,'weather':weather, 'temperature':temperature, 'visibility':visibility,'wind_speed':wind_speed,'description':description,'date_time': date_time,'month':month,'day':day,'year':year,'hour':hour}"
   ]
  },
  {
   "cell_type": "code",
   "execution_count": 251,
   "id": "b005a4e6-51d4-4aa1-86b6-b81212136288",
   "metadata": {},
   "outputs": [
    {
     "ename": "AttributeError",
     "evalue": "'dict' object has no attribute 'dtypes'",
     "output_type": "error",
     "traceback": [
      "\u001b[1;31m---------------------------------------------------------------------------\u001b[0m",
      "\u001b[1;31mAttributeError\u001b[0m                            Traceback (most recent call last)",
      "\u001b[1;32m~\\AppData\\Local\\Temp/ipykernel_16832/2134321653.py\u001b[0m in \u001b[0;36m<module>\u001b[1;34m\u001b[0m\n\u001b[1;32m----> 1\u001b[1;33m \u001b[0mcall\u001b[0m\u001b[1;33m.\u001b[0m\u001b[0mdtypes\u001b[0m\u001b[1;33m\u001b[0m\u001b[1;33m\u001b[0m\u001b[0m\n\u001b[0m",
      "\u001b[1;31mAttributeError\u001b[0m: 'dict' object has no attribute 'dtypes'"
     ]
    }
   ],
   "source": [
    "call"
   ]
  },
  {
   "cell_type": "code",
   "execution_count": 252,
   "id": "10f893d1-ff78-41c2-ac58-4f0750b74771",
   "metadata": {},
   "outputs": [
    {
     "data": {
      "text/plain": [
       "weather_id      object\n",
       "weather         object\n",
       "temperature     object\n",
       "visibility      object\n",
       "wind_speed     float64\n",
       "description     object\n",
       "month           object\n",
       "day             object\n",
       "year            object\n",
       "hour            object\n",
       "date_time       object\n",
       "dtype: object"
      ]
     },
     "execution_count": 252,
     "metadata": {},
     "output_type": "execute_result"
    }
   ],
   "source": []
  },
  {
   "cell_type": "code",
   "execution_count": 241,
   "id": "a61d3cc8-a6fb-4dfa-8354-e7dd31d90112",
   "metadata": {},
   "outputs": [],
   "source": [
    "df=df.append(call,ignore_index=True)"
   ]
  },
  {
   "cell_type": "code",
   "execution_count": 242,
   "id": "3ef40a4e-0423-496c-b8d5-f89b8c507fea",
   "metadata": {},
   "outputs": [
    {
     "data": {
      "text/plain": [
       "501"
      ]
     },
     "execution_count": 242,
     "metadata": {},
     "output_type": "execute_result"
    }
   ],
   "source": [
    "df.iloc[0,0]"
   ]
  },
  {
   "cell_type": "code",
   "execution_count": 243,
   "id": "869b8cbe-34b6-46fe-85e4-4ef018494b65",
   "metadata": {},
   "outputs": [],
   "source": [
    "df.to_csv('api_call.csv')"
   ]
  },
  {
   "cell_type": "code",
   "execution_count": null,
   "id": "692bdf3f-0e2c-4224-b1f3-419caa32fd7b",
   "metadata": {},
   "outputs": [],
   "source": [
    "mycursor.execute(INSERT INTO Table call['weather_id'] INT, call['description'] VARCHAR(255), call['weather'] VARCHAR(255), call['temperature'] INT, call['visibility'] INT, call['wind_speed'] DECIMAL(5,2), call['date_time'] VARCHAR(255),call['hour'] INT,call['month'] INT, call['day'] INT,call['year'] INT  )"
   ]
  },
  {
   "cell_type": "code",
   "execution_count": 217,
   "id": "b233dde1-ea85-4a3b-a910-80a377aab718",
   "metadata": {},
   "outputs": [
    {
     "name": "stdout",
     "output_type": "stream",
     "text": [
      "weather Rain\n",
      "temperature 286.35\n",
      "visibility 10000\n",
      "wind_speed 4.63\n",
      "description moderate rain\n",
      "date_time 04-11-2022 21:13:57\n",
      "month 04\n",
      "day 11\n",
      "year 2022\n",
      "hour 21\n"
     ]
    }
   ],
   "source": [
    "for key, value in call.items():\n",
    "    print(key,value)"
   ]
  },
  {
   "cell_type": "code",
   "execution_count": null,
   "id": "d05f6dcb-f50f-463a-b417-bd8dac89ab75",
   "metadata": {},
   "outputs": [],
   "source": []
  },
  {
   "cell_type": "code",
   "execution_count": null,
   "id": "7d17e49d-c64a-42f0-ad84-d9db21c82ff1",
   "metadata": {},
   "outputs": [],
   "source": []
  }
 ],
 "metadata": {
  "kernelspec": {
   "display_name": "Python 3 (ipykernel)",
   "language": "python",
   "name": "python3"
  },
  "language_info": {
   "codemirror_mode": {
    "name": "ipython",
    "version": 3
   },
   "file_extension": ".py",
   "mimetype": "text/x-python",
   "name": "python",
   "nbconvert_exporter": "python",
   "pygments_lexer": "ipython3",
   "version": "3.9.7"
  }
 },
 "nbformat": 4,
 "nbformat_minor": 5
}
